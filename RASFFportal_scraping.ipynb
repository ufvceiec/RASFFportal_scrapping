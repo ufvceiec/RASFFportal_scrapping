{
 "cells": [
  {
   "cell_type": "markdown",
   "metadata": {
    "toc": true
   },
   "source": [
    "<h1>Table of Contents<span class=\"tocSkip\"></span></h1>\n",
    "<div class=\"toc\"><ul class=\"toc-item\"><li><span><a href=\"#Librerías\" data-toc-modified-id=\"Librerías-1\"><span class=\"toc-item-num\">1&nbsp;&nbsp;</span>Librerías</a></span></li><li><span><a href=\"#Extracción-de-la-información-de-la-tabla-principal\" data-toc-modified-id=\"Extracción-de-la-información-de-la-tabla-principal-2\"><span class=\"toc-item-num\">2&nbsp;&nbsp;</span>Extracción de la información de la tabla principal</a></span></li><li><span><a href=\"#Extracción-de-la-información-de-los-detalles-de-cada-alerta\" data-toc-modified-id=\"Extracción-de-la-información-de-los-detalles-de-cada-alerta-3\"><span class=\"toc-item-num\">3&nbsp;&nbsp;</span>Extracción de la información de los detalles de cada alerta</a></span></li><li><span><a href=\"#Definición-del-cabecero\" data-toc-modified-id=\"Definición-del-cabecero-4\"><span class=\"toc-item-num\">4&nbsp;&nbsp;</span>Definición del cabecero</a></span></li><li><span><a href=\"#Código-principal\" data-toc-modified-id=\"Código-principal-5\"><span class=\"toc-item-num\">5&nbsp;&nbsp;</span>Código principal</a></span></li></ul></div>"
   ]
  },
  {
   "cell_type": "markdown",
   "metadata": {},
   "source": [
    "## Librerías "
   ]
  },
  {
   "cell_type": "code",
   "execution_count": 1,
   "metadata": {
    "ExecuteTime": {
     "end_time": "2019-10-15T09:56:28.646305Z",
     "start_time": "2019-10-15T09:56:28.494521Z"
    }
   },
   "outputs": [],
   "source": [
    "from selenium import webdriver \n",
    "import csv   \n",
    "from selenium.common.exceptions import TimeoutException\n",
    "import time"
   ]
  },
  {
   "cell_type": "markdown",
   "metadata": {},
   "source": [
    "## Extracción de la información de la tabla principal\n",
    "En esta función se extrae la información de la tabla principal, es decir, de la tabla que es mostrada al hacer una búsqueda vacía en RASFF portal(https://webgate.ec.europa.eu/rasff-window/portal/?event=searchResultList).\n",
    "\n",
    "El programa principal ya envía a esta función la alerta de la que hay que sacar la información, por lo que esta función tan solo extrae la información de dicha alerta y llama a la siguiente función para extraer la información de los detalles."
   ]
  },
  {
   "cell_type": "code",
   "execution_count": 2,
   "metadata": {
    "ExecuteTime": {
     "end_time": "2019-10-15T09:56:29.715036Z",
     "start_time": "2019-10-15T09:56:29.709050Z"
    }
   },
   "outputs": [],
   "source": [
    "def principal_info(alert):\n",
    "\n",
    "    alert_info = []\n",
    "    csv_row = []\n",
    "    count = 1\n",
    "    code = \"\"\n",
    "    attributes = alert.find_elements_by_xpath(\"td\") #Extraemos los elementos (columnas) de la alerta.\n",
    "\n",
    "    for i in attributes:                        #Recorremos los elementos de la alerta y los añadimos a la variable line de tipo\n",
    "        if count == 10:                         #lista, que va a contener toda la información de cada alerta.               \n",
    "            break\n",
    "        if count == 4:                          #El cuarto elemento (count ==4) corresponde con la referencia, que guardaremos\n",
    "            code = i.text                       #para poder indicar a la siguiente función en qué alerta nos encontramos. \n",
    "        alert_info.append(i.text)                  \n",
    "        count += 1\n",
    "                                               \n",
    "    details_info(code,alert_info)               #Llamada a la función que extrae los detalles.\n",
    "    csv_row.append(alert_info)\n",
    "    \n",
    "    \n",
    "    alert_number = csv_row[0][0]\n",
    "    alert_number = int(alert_number[:-1])\n",
    "    if int(alert_number) % 100 == 0:\n",
    "        print(alert_number)\n",
    "    \n",
    "    return csv_row"
   ]
  },
  {
   "cell_type": "code",
   "execution_count": 3,
   "metadata": {
    "ExecuteTime": {
     "end_time": "2019-10-15T09:56:30.208641Z",
     "start_time": "2019-10-15T09:56:30.204625Z"
    }
   },
   "outputs": [],
   "source": [
    "def details_anomalies(test,code):\n",
    "    for t in test:\n",
    "        if 'Notification details - ' + str(code) in t.text:\n",
    "            return False\n",
    "        \n",
    "    return True"
   ]
  },
  {
   "cell_type": "code",
   "execution_count": 4,
   "metadata": {
    "ExecuteTime": {
     "end_time": "2019-10-15T09:56:30.385076Z",
     "start_time": "2019-10-15T09:56:30.381110Z"
    }
   },
   "outputs": [],
   "source": [
    "def main_anomalies(test,first_row):\n",
    "    for t in test:\n",
    "        if 'Notifications ' + str(first_row) in t.text:\n",
    "            return False\n",
    "    \n",
    "    return True"
   ]
  },
  {
   "cell_type": "markdown",
   "metadata": {},
   "source": [
    "## Extracción de la información de los detalles de cada alerta\n",
    "En esta función se extrae la información contenida en la página de detalles de la alerta en cuestión. En primer lugar, se extrae la información del cuerpo principal que no hemos extraido en la función anterior (hay información aquí contenida que ya ha sido extraida en la tabla principal). Después, se extrae la información más detallada, como los países que se ven relacionados de alguna manera con la alerta.\n"
   ]
  },
  {
   "cell_type": "code",
   "execution_count": 5,
   "metadata": {
    "ExecuteTime": {
     "end_time": "2019-10-15T09:56:31.454006Z",
     "start_time": "2019-10-15T09:56:31.438073Z"
    }
   },
   "outputs": [],
   "source": [
    "def details_info(code,alert_info):\n",
    "    try:\n",
    "        count = 1\n",
    "        url_details = \"https://webgate.ec.europa.eu/rasff-window/portal/?event=notificationDetail&NOTIF_REFERENCE=\"+code\n",
    "        browser_details = webdriver.Firefox()\n",
    "        \n",
    "        browser_details.get(url_details)         #Accedemos a la página que contiene los detalles de la alerta. \n",
    "        test = browser_details.find_elements_by_xpath(\"//div\")\n",
    "        anomalies = details_anomalies(test,code)\n",
    "        \n",
    "        while anomalies == True:\n",
    "            print(\"ANOMALIA DETECTADA\")\n",
    "            time.sleep(120)\n",
    "            \n",
    "            browser_details.get(url_details)\n",
    "            test = browser_details.find_elements_by_xpath(\"//div\")\n",
    "            anomalies = details_anomalies(test,code)\n",
    "            \n",
    "        details = browser_details.find_elements_by_xpath(\"//div[@class='span6']\")#Extraemos todos los elementos del cuerpo principal.\n",
    "        \n",
    "        for i in details:                        #Recorremos los elementos extraidos e incorporamos solo aquellos que no tenemos ya.      \n",
    "            if count == 2 :\n",
    "                alert_info.append(i.text)\n",
    "            if count == 3 :\n",
    "                alert_info.append(i.text)\n",
    "            if count == 4 :\n",
    "                alert_info.append(i.text)\n",
    "            count += 1\n",
    "            \n",
    "        \n",
    "        num_hazards = 0\n",
    "        hazards = \"\"\n",
    "        hazardscat = \"\"\n",
    "        \n",
    "        all_hazards = browser_details.find_elements_by_xpath(\"//table[@id='hazards']/tbody[1]/tr\")\n",
    "        \n",
    "        for i in all_hazards:\n",
    "            num_hazards = num_hazards +1\n",
    "\n",
    "\n",
    "        for i in range (1,num_hazards+1):\n",
    "            \n",
    "            var = str(i)\n",
    "    \n",
    "            hazard = browser_details.find_element_by_xpath(\"//table[@id='hazards']/tbody[1]/tr[\"+var+\"]/td[1]\")\n",
    "            hazardcat = browser_details.find_element_by_xpath(\"//table[@id='hazards']/tbody[1]/tr[\"+var+\"]/td[2]\")\n",
    "            \n",
    "            if i != 1:\n",
    "                hazards = hazards + \",\"\n",
    "                hazardscat = hazardscat + \",\"\n",
    "            hazards = hazards + hazard.text\n",
    "            hazardscat = hazardscat + hazardcat.text\n",
    "        \n",
    "        \n",
    "        alert_info.append(hazards)\n",
    "        alert_info.append(hazardscat)    \n",
    "\n",
    "        ''' A continuación, extraemos todos los países involucrados en la alerta clasificándolos en países de origen, países de\n",
    "        destino y otros países. Esto lo hacemos identificando algunos símbolos que llevan en su nombre y que los identifican. Ha\n",
    "        habido que añadir varias excepciones debido a que que a parte de las etiquetas básicas de origen \"(O)\" y destino \"(D)\" \n",
    "        existen otras como origen y destino \"(O/D)\" e incluso algunos paises constituyen links hacia otra información, por lo\n",
    "        que se encuentran en otro nodo del árbol de la página web y es necesaria una búsqueda diferente para encontrarlos.'''\n",
    "        ori_list = \"\"\n",
    "        des_list = \"\"\n",
    "        oth_list = \"\"\n",
    "        wrong = 0\n",
    "        origin1 = browser_details.find_elements_by_xpath(\"//span[contains(text(),'(O)') and @style='width: auto; color: rgb(51, 51, 51); background-color: rgb(238, 238, 238);'] | //span[contains(text(),'(D/O)') and @style='width: auto; color: rgb(51, 51, 51); background-color: rgb(238, 238, 238);']\")\n",
    "        origin2 = browser_details.find_elements_by_partial_link_text('(O)')\n",
    "        origin3 = browser_details.find_elements_by_partial_link_text('(D/O)')\n",
    "        origins = origin1 + origin2 + origin3\n",
    "        destination1 = browser_details.find_elements_by_xpath(\"//span[contains(text(),'(D)') and @style='width: auto; color: rgb(51, 51, 51); background-color: rgb(238, 238, 238);'] | //span[contains(text(),'(D/O)') and @style='width: auto; color: rgb(51, 51, 51); background-color: rgb(238, 238, 238);']\")\n",
    "        destination2 = browser_details.find_elements_by_partial_link_text('(D)')\n",
    "        destination3 = browser_details.find_elements_by_partial_link_text('(D/O)')\n",
    "        destinations = destination1 + destination2 + destination3\n",
    "        other1 = browser_details.find_elements_by_xpath(\"//span[not(contains(text(),'(D)')) and not(contains(text(), '(O)')) and @style='width: auto; color: rgb(51, 51, 51); background-color: rgb(238, 238, 238);']\")\n",
    "        other2 = browser_details.find_elements_by_xpath(\"//div[@class = 'list']/span/a\")\n",
    "        others = other1 + other2\n",
    "\n",
    "        count = 1\n",
    "        for i in origins:                  #Recorremos los paises de origen y añadimos una \",\" entre cada uno de ellos.\n",
    "            if count != 1:\n",
    "                ori_list = ori_list + \",\"\n",
    "            long = 0\n",
    "            orig = \"\"\n",
    "            orig = i.text\n",
    "            for a in i.text:\n",
    "                long += 1\n",
    "                if a == '(':\n",
    "                    orig = i.text[:long-2] #Identificamos el símbolo \"(\" y cortamos a partir de ahí, pues ya no necesitamos el \n",
    "                    break                  #identificador.\n",
    "            ori_list = ori_list + orig\n",
    "            count += 1 \n",
    "        alert_info.append(ori_list)        #Añadimos todos los países de origen a la variable que contiene la información de toda \n",
    "                                           #la alerta.\n",
    "        count = 1\n",
    "        for i in destinations:             #Recorremos los paises de destino y añadimos una \",\" entre cada uno de ellos.\n",
    "            if count != 1:\n",
    "                des_list = des_list + \",\"\n",
    "            long = 0\n",
    "            dest = \"\"\n",
    "            dest = i.text\n",
    "            for a in i.text:\n",
    "                long += 1\n",
    "                if a == '(':\n",
    "                    dest = i.text[:long-2] #Identificamos el símbolo \"(\" y cortamos a partir de ahí, pues ya no necesitamos el\n",
    "                    break                  #identificador.\n",
    "            des_list = des_list + dest\n",
    "            count += 1         \n",
    "        alert_info.append(des_list)        #Añadimos todos los países de destino a la variable que contiene la información de toda \n",
    "                                           #la alerta.\n",
    "        count = 1\n",
    "        for i in others:                   #Recorremos el resto de paises. En este grupo se cuelan algunos paises que ya hemos\n",
    "            wrong = 0                      #añadido debido a la estructura de la página, por lo que los identificamos por el símbolo \n",
    "            for a in i.text:               # \"(\" (los paises que deben ir en este grupo no llevan ningún identificador) y no los \n",
    "                if a == '(':               #añadimos\n",
    "                    wrong = 1\n",
    "                    break\n",
    "            if wrong == 0:\n",
    "                if count != 1:\n",
    "                    oth_list = oth_list + \",\"\n",
    "                oth = \"\"\n",
    "                oth = i.text[:-1]\n",
    "                oth_list = oth_list + oth\n",
    "                count += 1 \n",
    "        alert_info.append(oth_list)        #Añadimos todos los países restantes a la variable que contiene la información de toda\n",
    "                                           #la alerta\n",
    "        browser_details.close()            #Cerramos la pestaña de detalles\n",
    "    \n",
    "    except TimeoutException:\n",
    "        browser_details.implicitly_wait(180)\n",
    "        browser_details.close()  \n",
    "        \n",
    "    return"
   ]
  },
  {
   "cell_type": "markdown",
   "metadata": {},
   "source": [
    "## Definición del cabecero\n",
    "Esta función define el cabecero de la tabla que vamos a generar con todos los datos extraidos."
   ]
  },
  {
   "cell_type": "code",
   "execution_count": 6,
   "metadata": {
    "ExecuteTime": {
     "end_time": "2019-10-15T09:56:32.178040Z",
     "start_time": "2019-10-15T09:56:32.173077Z"
    }
   },
   "outputs": [],
   "source": [
    "def header():\n",
    "    csv_row=[]\n",
    "    head = [\"NUMBER\", \"CLASSIF\", \"DATE_CASE\", \"REF\", \"NOT_COUNTRY\", \"SUBJET\", \"PROD_CAT\", \"TYPE\", \"RISK_DECISION\", \"ACTION_TAKEN\", \"DISTRIBUTION_STAT\", \"PRODUCT\", \"HAZARDS\", \"HAZARDS_CAT\", \"COUNT_ORIGEN\", \"COUNT_DESTIN\", \"COUNT_CONCERN\"]\n",
    "    csv_row.append(head)\n",
    "    return csv_row"
   ]
  },
  {
   "cell_type": "markdown",
   "metadata": {},
   "source": [
    "## Código principal \n",
    "La función principal de esta parte es iniciar el navegador, hacer una búsqueda vacía para que se nos muestre todos los resultados y recorrer cada alerta.\n",
    "La primera celda solo debe ser ejecutada una vez antes de extraer la información, y se debe esperar a que el navegador esté completamente cargado.\n",
    "La segunda celda recorre las alertas y abre el csv en el que va a ser escrita toda la información. Así mismo, una vez que las funciones han devuelto la información extraida, se escribe en el csv.\n",
    "Por último, se recorren las paginas principales que contienen las alertas (cada página contiene 100 alertas) modificando el url de la página  en la que se realiza la búsqueda principal, debido a que el propio url muestra el bloque de alertas que esta mostrando mediante un número."
   ]
  },
  {
   "cell_type": "code",
   "execution_count": 11,
   "metadata": {
    "ExecuteTime": {
     "end_time": "2019-10-15T10:18:10.117655Z",
     "start_time": "2019-10-15T10:18:03.339169Z"
    }
   },
   "outputs": [],
   "source": [
    "main_url = \"https://webgate.ec.europa.eu/rasff-window/portal/?event=SearchForm&cleanSearch=1\"\n",
    "browser_main = webdriver.Firefox()\n",
    "browser_main.get(main_url)\n",
    "search = browser_main.find_element_by_id(\"Btn_Search\")\n",
    "search.click()"
   ]
  },
  {
   "cell_type": "code",
   "execution_count": 12,
   "metadata": {
    "ExecuteTime": {
     "end_time": "2019-10-15T10:42:21.494178Z",
     "start_time": "2019-10-15T10:18:11.836059Z"
    },
    "scrolled": true
   },
   "outputs": [
    {
     "name": "stdout",
     "output_type": "stream",
     "text": [
      "100\n",
      "25500\n"
     ]
    }
   ],
   "source": [
    "row = 0\n",
    "first_row = 1\n",
    "url = 'https://webgate.ec.europa.eu/rasff-window/portal/?event=searchResultList'\n",
    "\n",
    "while first_row < 56000:                                      #Recorremos cada página que contiene 100 alertas, hasta el final.\n",
    "    try: \n",
    "        \n",
    "        test = browser_main.find_elements_by_xpath(\"//div\")\n",
    "        anomalies = main_anomalies(test,first_row)\n",
    "        \n",
    "        '''while anomalies == True:                               \n",
    "            print(\"ANOMALIA DETECTADA\")\n",
    "            time.sleep(120)\n",
    "            \n",
    "            browser_main.get(nexturl) \n",
    "            test = browser_main.find_elements_by_xpath(\"//div\")\n",
    "            anomalies = main_anomalies(test,first_row)'''\n",
    "            \n",
    "        alerts = browser_main.find_elements_by_xpath(\"//tr[@class='even']\")     #Extraemos las alertas de la página principal\n",
    "        alerts = alerts + browser_main.find_elements_by_xpath(\"//tr[@class='odd']\") # Extraemos primero las alertas impares y\n",
    "        \n",
    "        for i in alerts:                                                            #después las pares debido a que así son más\n",
    "            with open('RASFF_DATA.csv', 'a', encoding=\"utf-8\") as f:                #fáciles de identificar.\n",
    "                writer = csv.writer(f,delimiter='\\t')\n",
    "                if row == 0 :\n",
    "                    writer.writerows(header())                                      #Escribimos la información en el csv\n",
    "                writer.writerows(principal_info(i))\n",
    "            row += 1\n",
    "         \n",
    "        first_row += 100\n",
    "        nexturl = url + '&StartRow=' + str(first_row)                           #Recorremos las páginas de la búsqueda principal \n",
    "        browser_main.get(nexturl)                                               #modificando el url.                              \n",
    "    \n",
    "    except TimeoutException:\n",
    "        browser_main.implicitly_wait(180)\n",
    "        \n",
    "browser_main.close()"
   ]
  },
  {
   "cell_type": "code",
   "execution_count": null,
   "metadata": {},
   "outputs": [],
   "source": []
  }
 ],
 "metadata": {
  "hide_input": false,
  "kernelspec": {
   "display_name": "Python 3",
   "language": "python",
   "name": "python3"
  },
  "language_info": {
   "codemirror_mode": {
    "name": "ipython",
    "version": 3
   },
   "file_extension": ".py",
   "mimetype": "text/x-python",
   "name": "python",
   "nbconvert_exporter": "python",
   "pygments_lexer": "ipython3",
   "version": "3.6.8"
  },
  "toc": {
   "base_numbering": 1,
   "nav_menu": {},
   "number_sections": true,
   "sideBar": true,
   "skip_h1_title": false,
   "title_cell": "Table of Contents",
   "title_sidebar": "Contents",
   "toc_cell": true,
   "toc_position": {},
   "toc_section_display": true,
   "toc_window_display": false
  },
  "varInspector": {
   "cols": {
    "lenName": 16,
    "lenType": 16,
    "lenVar": 40
   },
   "kernels_config": {
    "python": {
     "delete_cmd_postfix": "",
     "delete_cmd_prefix": "del ",
     "library": "var_list.py",
     "varRefreshCmd": "print(var_dic_list())"
    },
    "r": {
     "delete_cmd_postfix": ") ",
     "delete_cmd_prefix": "rm(",
     "library": "var_list.r",
     "varRefreshCmd": "cat(var_dic_list()) "
    }
   },
   "types_to_exclude": [
    "module",
    "function",
    "builtin_function_or_method",
    "instance",
    "_Feature"
   ],
   "window_display": false
  }
 },
 "nbformat": 4,
 "nbformat_minor": 2
}
